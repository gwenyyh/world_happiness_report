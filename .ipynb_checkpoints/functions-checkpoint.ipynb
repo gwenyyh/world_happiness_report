{
 "cells": [
  {
   "cell_type": "code",
   "execution_count": 1,
   "id": "ad294d3a",
   "metadata": {},
   "outputs": [],
   "source": [
    "from sklearn import preprocessing\n",
    "from sklearn.linear_model import LinearRegression\n",
    "from sklearn.model_selection import train_test_split\n",
    "from sklearn.metrics import r2_score, mean_squared_error\n"
   ]
  },
  {
   "cell_type": "code",
   "execution_count": 2,
   "id": "44dded79",
   "metadata": {},
   "outputs": [],
   "source": [
    "def create_dummy_df(df, dummy_cols:list, dummy_na=False, drop_first=False):\n",
    "    '''\n",
    "    This function creates a new dataframe with dummy columns from the original dataframe.\n",
    "    \n",
    "    Parameters:\n",
    "    df : DataFrame\n",
    "      DataFrame of which to create dummy columns from.\n",
    "    dummy_cols: list\n",
    "      categorical column names to create dummy columns from.\n",
    "    dummy_na: boolean, default False\n",
    "      Add a column to indicate NaNs, if False NaNs are ignored.\n",
    "    drop_first: boolean, default False\n",
    "      Whether to get k-1 dummies out of k categorical levels by removing the first level.\n",
    "      \n",
    "    Returns: \n",
    "    df: DataFrame\n",
    "      new DataFrame that removes columns in dummy_cols, with dummy columns created from categorical columns in dummy_cols and other original columns in df.\n",
    "    '''\n",
    "    dummy_df = pd.get_dummies(df[dummy_cols], dummy_na=dummy_na, drop_first=drop_first)\n",
    "    df = pd.concat([df.drop(dummy_cols,axis=1), dummy_df], axis=1)\n",
    "    return df"
   ]
  },
  {
   "cell_type": "code",
   "execution_count": 3,
   "id": "f2b7775e",
   "metadata": {},
   "outputs": [],
   "source": [
    "def linear_regression(df,X_cols: list, y_col:str, test_size=.3,random_state=42):\n",
    "    '''\n",
    "    This function splits df into train and test sets, trains and fits linear regression, predicts on the train and test sets and gets R-squred scores. \n",
    "    \n",
    "    Parameters:\n",
    "    df: DataFrame\n",
    "      data to uses linear regression on.\n",
    "    X_cols: list\n",
    "      list of columns names that are used as regressors.\n",
    "    y_col: str\n",
    "      target column name\n",
    "    test_size: float, default 0.3\n",
    "      proportion of the dataset to include in the test split.\n",
    "    random_state: int, default 42\n",
    "      Controls the shuffling applied to the data before applying the split.\n",
    "      \n",
    "    Returns:\n",
    "    X_train: feature train set \n",
    "    X_test: feature test set\n",
    "    y_train: target train set\n",
    "    y_test: target test set\n",
    "    lm_model: linear regression model that's trained and fitted by X_train and y_train\n",
    "    train_score: R-squared score on the train set\n",
    "    test_score: R-squared score on the test set\n",
    "    '''\n",
    "    X = df[X_cols]\n",
    "    y = df[y_col]\n",
    "    \n",
    "    X_train, X_test, y_train, y_test = train_test_split(X,y,test_size=test_size, random_state=random_state)\n",
    "    lm_model = LinearRegression(normalize=True)\n",
    "    lm_model.fit(X_train,y_train)\n",
    "    \n",
    "    y_train_preds = lm_model.predict(X_train)\n",
    "    y_test_preds = lm_model.predict(X_test)\n",
    "    \n",
    "    train_score = r2_score(y_train, y_train_preds)\n",
    "    test_score = r2_score(y_test, y_test_preds)\n",
    "    \n",
    "    return X_train, X_test, y_train, y_test, lm_model, train_score, test_score"
   ]
  },
  {
   "cell_type": "code",
   "execution_count": null,
   "id": "fc72c672",
   "metadata": {},
   "outputs": [],
   "source": []
  }
 ],
 "metadata": {
  "kernelspec": {
   "display_name": "Python 3",
   "language": "python",
   "name": "python3"
  },
  "language_info": {
   "codemirror_mode": {
    "name": "ipython",
    "version": 3
   },
   "file_extension": ".py",
   "mimetype": "text/x-python",
   "name": "python",
   "nbconvert_exporter": "python",
   "pygments_lexer": "ipython3",
   "version": "3.8.9"
  }
 },
 "nbformat": 4,
 "nbformat_minor": 5
}
