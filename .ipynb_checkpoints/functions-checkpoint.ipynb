{
 "cells": [
  {
   "cell_type": "code",
   "execution_count": 1,
   "id": "ab2d1025",
   "metadata": {},
   "outputs": [],
   "source": [
    "from sklearn import preprocessing\n",
    "from sklearn.linear_model import LinearRegression\n",
    "from sklearn.model_selection import train_test_split\n",
    "from sklearn.metrics import r2_score, mean_squared_error\n"
   ]
  },
  {
   "cell_type": "code",
   "execution_count": 2,
   "id": "f9778d58",
   "metadata": {},
   "outputs": [],
   "source": [
    "def create_dummy_df(df, dummy_cols:list, dummy_na=False, drop_first=False):\n",
    "    dummy_df = pd.get_dummies(df[dummy_cols], dummy_na=dummy_na, drop_first=drop_first)\n",
    "    df = pd.concat([df.drop(dummy_cols,axis=1), dummy_df], axis=1)\n",
    "    return df"
   ]
  },
  {
   "cell_type": "code",
   "execution_count": 4,
   "id": "0e6e2609",
   "metadata": {},
   "outputs": [],
   "source": [
    "def linear_regression(df,X_cols: list, y_col:str, test_size=.3,random_state=42):\n",
    "    X = df[X_cols]\n",
    "    y = df[y_col]\n",
    "    \n",
    "    X_train, X_test, y_train, y_test = train_test_split(X,y,test_size=test_size, random_state=random_state)\n",
    "    lm_model = LinearRegression(normalize=True)\n",
    "    lm_model.fit(X_train,y_train)\n",
    "    \n",
    "    y_train_preds = lm_model.predict(X_train)\n",
    "    y_test_preds = lm_model.predict(X_test)\n",
    "    \n",
    "    train_score = r2_score(y_train, y_train_preds)\n",
    "    test_score = r2_score(y_test, y_test_preds)\n",
    "    \n",
    "    return X_train, X_test, y_train, y_test, lm_model, train_score, test_score"
   ]
  },
  {
   "cell_type": "code",
   "execution_count": null,
   "id": "dd28d643",
   "metadata": {},
   "outputs": [],
   "source": []
  }
 ],
 "metadata": {
  "kernelspec": {
   "display_name": "Python 3",
   "language": "python",
   "name": "python3"
  },
  "language_info": {
   "codemirror_mode": {
    "name": "ipython",
    "version": 3
   },
   "file_extension": ".py",
   "mimetype": "text/x-python",
   "name": "python",
   "nbconvert_exporter": "python",
   "pygments_lexer": "ipython3",
   "version": "3.8.9"
  }
 },
 "nbformat": 4,
 "nbformat_minor": 5
}
